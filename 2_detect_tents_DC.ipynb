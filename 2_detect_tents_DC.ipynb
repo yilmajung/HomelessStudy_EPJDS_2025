{
 "cells": [
  {
   "cell_type": "code",
   "execution_count": 2,
   "id": "cc86e5b9",
   "metadata": {},
   "outputs": [
    {
     "name": "stdout",
     "output_type": "stream",
     "text": [
      "Collecting torch\n",
      "  Downloading torch-2.2.2-cp311-none-macosx_10_9_x86_64.whl.metadata (25 kB)\n",
      "Collecting filelock (from torch)\n",
      "  Downloading filelock-3.18.0-py3-none-any.whl.metadata (2.9 kB)\n",
      "Requirement already satisfied: typing-extensions>=4.8.0 in /Users/wooyongjung/miniconda3/envs/homeless_env/lib/python3.11/site-packages (from torch) (4.13.2)\n",
      "Collecting sympy (from torch)\n",
      "  Downloading sympy-1.14.0-py3-none-any.whl.metadata (12 kB)\n",
      "Requirement already satisfied: networkx in /Users/wooyongjung/miniconda3/envs/homeless_env/lib/python3.11/site-packages (from torch) (3.5)\n",
      "Collecting jinja2 (from torch)\n",
      "  Downloading jinja2-3.1.6-py3-none-any.whl.metadata (2.9 kB)\n",
      "Collecting fsspec (from torch)\n",
      "  Downloading fsspec-2025.7.0-py3-none-any.whl.metadata (12 kB)\n",
      "Collecting MarkupSafe>=2.0 (from jinja2->torch)\n",
      "  Downloading MarkupSafe-3.0.2-cp311-cp311-macosx_10_9_universal2.whl.metadata (4.0 kB)\n",
      "Collecting mpmath<1.4,>=1.1.0 (from sympy->torch)\n",
      "  Downloading mpmath-1.3.0-py3-none-any.whl.metadata (8.6 kB)\n",
      "Downloading torch-2.2.2-cp311-none-macosx_10_9_x86_64.whl (150.8 MB)\n",
      "\u001b[2K   \u001b[90m━━━━━━━━━━━━━━━━━━━━━━━━━━━━━━━━━━━━━━━━\u001b[0m \u001b[32m150.8/150.8 MB\u001b[0m \u001b[31m30.9 MB/s\u001b[0m eta \u001b[36m0:00:00\u001b[0m00:01\u001b[0m00:01\u001b[0m\n",
      "\u001b[?25hDownloading filelock-3.18.0-py3-none-any.whl (16 kB)\n",
      "Downloading fsspec-2025.7.0-py3-none-any.whl (199 kB)\n",
      "Downloading jinja2-3.1.6-py3-none-any.whl (134 kB)\n",
      "Downloading MarkupSafe-3.0.2-cp311-cp311-macosx_10_9_universal2.whl (14 kB)\n",
      "Downloading sympy-1.14.0-py3-none-any.whl (6.3 MB)\n",
      "\u001b[2K   \u001b[90m━━━━━━━━━━━━━━━━━━━━━━━━━━━━━━━━━━━━━━━━\u001b[0m \u001b[32m6.3/6.3 MB\u001b[0m \u001b[31m32.1 MB/s\u001b[0m eta \u001b[36m0:00:00\u001b[0m\n",
      "\u001b[?25hDownloading mpmath-1.3.0-py3-none-any.whl (536 kB)\n",
      "\u001b[2K   \u001b[90m━━━━━━━━━━━━━━━━━━━━━━━━━━━━━━━━━━━━━━━━\u001b[0m \u001b[32m536.2/536.2 kB\u001b[0m \u001b[31m8.0 MB/s\u001b[0m eta \u001b[36m0:00:00\u001b[0m\n",
      "\u001b[?25hInstalling collected packages: mpmath, sympy, MarkupSafe, fsspec, filelock, jinja2, torch\n",
      "\u001b[2K   \u001b[90m━━━━━━━━━━━━━━━━━━━━━━━━━━━━━━━━━━━━━━━━\u001b[0m \u001b[32m7/7\u001b[0m [torch]32m6/7\u001b[0m [torch]]\n",
      "\u001b[1A\u001b[2KSuccessfully installed MarkupSafe-3.0.2 filelock-3.18.0 fsspec-2025.7.0 jinja2-3.1.6 mpmath-1.3.0 sympy-1.14.0 torch-2.2.2\n"
     ]
    }
   ],
   "source": [
    "!pip install torch"
   ]
  },
  {
   "cell_type": "code",
   "execution_count": 4,
   "id": "a311fa17",
   "metadata": {},
   "outputs": [
    {
     "name": "stdout",
     "output_type": "stream",
     "text": [
      "Collecting ultralytics\n",
      "  Downloading ultralytics-8.3.169-py3-none-any.whl.metadata (37 kB)\n",
      "Requirement already satisfied: numpy>=1.23.0 in /Users/wooyongjung/miniconda3/envs/homeless_env/lib/python3.11/site-packages (from ultralytics) (2.0.1)\n",
      "Requirement already satisfied: matplotlib>=3.3.0 in /Users/wooyongjung/miniconda3/envs/homeless_env/lib/python3.11/site-packages (from ultralytics) (3.10.0)\n",
      "Collecting opencv-python>=4.6.0 (from ultralytics)\n",
      "  Downloading opencv_python-4.12.0.88-cp37-abi3-macosx_13_0_x86_64.whl.metadata (19 kB)\n",
      "Requirement already satisfied: pillow>=7.1.2 in /Users/wooyongjung/miniconda3/envs/homeless_env/lib/python3.11/site-packages (from ultralytics) (11.1.0)\n",
      "Collecting pyyaml>=5.3.1 (from ultralytics)\n",
      "  Downloading PyYAML-6.0.2-cp311-cp311-macosx_10_9_x86_64.whl.metadata (2.1 kB)\n",
      "Requirement already satisfied: requests>=2.23.0 in /Users/wooyongjung/miniconda3/envs/homeless_env/lib/python3.11/site-packages (from ultralytics) (2.32.3)\n",
      "Requirement already satisfied: scipy>=1.4.1 in /Users/wooyongjung/miniconda3/envs/homeless_env/lib/python3.11/site-packages (from ultralytics) (1.15.3)\n",
      "Requirement already satisfied: torch>=1.8.0 in /Users/wooyongjung/miniconda3/envs/homeless_env/lib/python3.11/site-packages (from ultralytics) (2.2.2)\n",
      "Collecting torchvision>=0.9.0 (from ultralytics)\n",
      "  Downloading torchvision-0.17.2-cp311-cp311-macosx_10_13_x86_64.whl.metadata (6.6 kB)\n",
      "Requirement already satisfied: tqdm>=4.64.0 in /Users/wooyongjung/miniconda3/envs/homeless_env/lib/python3.11/site-packages (from ultralytics) (4.67.1)\n",
      "Requirement already satisfied: psutil in /Users/wooyongjung/miniconda3/envs/homeless_env/lib/python3.11/site-packages (from ultralytics) (7.0.0)\n",
      "Collecting py-cpuinfo (from ultralytics)\n",
      "  Downloading py_cpuinfo-9.0.0-py3-none-any.whl.metadata (794 bytes)\n",
      "Requirement already satisfied: pandas>=1.1.4 in /Users/wooyongjung/miniconda3/envs/homeless_env/lib/python3.11/site-packages (from ultralytics) (2.2.3)\n",
      "Collecting ultralytics-thop>=2.0.0 (from ultralytics)\n",
      "  Downloading ultralytics_thop-2.0.14-py3-none-any.whl.metadata (9.4 kB)\n",
      "Requirement already satisfied: contourpy>=1.0.1 in /Users/wooyongjung/miniconda3/envs/homeless_env/lib/python3.11/site-packages (from matplotlib>=3.3.0->ultralytics) (1.3.1)\n",
      "Requirement already satisfied: cycler>=0.10 in /Users/wooyongjung/miniconda3/envs/homeless_env/lib/python3.11/site-packages (from matplotlib>=3.3.0->ultralytics) (0.11.0)\n",
      "Requirement already satisfied: fonttools>=4.22.0 in /Users/wooyongjung/miniconda3/envs/homeless_env/lib/python3.11/site-packages (from matplotlib>=3.3.0->ultralytics) (4.55.3)\n",
      "Requirement already satisfied: kiwisolver>=1.3.1 in /Users/wooyongjung/miniconda3/envs/homeless_env/lib/python3.11/site-packages (from matplotlib>=3.3.0->ultralytics) (1.4.8)\n",
      "Requirement already satisfied: packaging>=20.0 in /Users/wooyongjung/miniconda3/envs/homeless_env/lib/python3.11/site-packages (from matplotlib>=3.3.0->ultralytics) (25.0)\n",
      "Requirement already satisfied: pyparsing>=2.3.1 in /Users/wooyongjung/miniconda3/envs/homeless_env/lib/python3.11/site-packages (from matplotlib>=3.3.0->ultralytics) (3.2.0)\n",
      "Requirement already satisfied: python-dateutil>=2.7 in /Users/wooyongjung/miniconda3/envs/homeless_env/lib/python3.11/site-packages (from matplotlib>=3.3.0->ultralytics) (2.9.0.post0)\n",
      "Requirement already satisfied: pytz>=2020.1 in /Users/wooyongjung/miniconda3/envs/homeless_env/lib/python3.11/site-packages (from pandas>=1.1.4->ultralytics) (2024.1)\n",
      "Requirement already satisfied: tzdata>=2022.7 in /Users/wooyongjung/miniconda3/envs/homeless_env/lib/python3.11/site-packages (from pandas>=1.1.4->ultralytics) (2025.2)\n",
      "Requirement already satisfied: six>=1.5 in /Users/wooyongjung/miniconda3/envs/homeless_env/lib/python3.11/site-packages (from python-dateutil>=2.7->matplotlib>=3.3.0->ultralytics) (1.17.0)\n",
      "Requirement already satisfied: charset-normalizer<4,>=2 in /Users/wooyongjung/miniconda3/envs/homeless_env/lib/python3.11/site-packages (from requests>=2.23.0->ultralytics) (3.3.2)\n",
      "Requirement already satisfied: idna<4,>=2.5 in /Users/wooyongjung/miniconda3/envs/homeless_env/lib/python3.11/site-packages (from requests>=2.23.0->ultralytics) (3.7)\n",
      "Requirement already satisfied: urllib3<3,>=1.21.1 in /Users/wooyongjung/miniconda3/envs/homeless_env/lib/python3.11/site-packages (from requests>=2.23.0->ultralytics) (2.3.0)\n",
      "Requirement already satisfied: certifi>=2017.4.17 in /Users/wooyongjung/miniconda3/envs/homeless_env/lib/python3.11/site-packages (from requests>=2.23.0->ultralytics) (2025.4.26)\n",
      "Requirement already satisfied: filelock in /Users/wooyongjung/miniconda3/envs/homeless_env/lib/python3.11/site-packages (from torch>=1.8.0->ultralytics) (3.18.0)\n",
      "Requirement already satisfied: typing-extensions>=4.8.0 in /Users/wooyongjung/miniconda3/envs/homeless_env/lib/python3.11/site-packages (from torch>=1.8.0->ultralytics) (4.13.2)\n",
      "Requirement already satisfied: sympy in /Users/wooyongjung/miniconda3/envs/homeless_env/lib/python3.11/site-packages (from torch>=1.8.0->ultralytics) (1.14.0)\n",
      "Requirement already satisfied: networkx in /Users/wooyongjung/miniconda3/envs/homeless_env/lib/python3.11/site-packages (from torch>=1.8.0->ultralytics) (3.5)\n",
      "Requirement already satisfied: jinja2 in /Users/wooyongjung/miniconda3/envs/homeless_env/lib/python3.11/site-packages (from torch>=1.8.0->ultralytics) (3.1.6)\n",
      "Requirement already satisfied: fsspec in /Users/wooyongjung/miniconda3/envs/homeless_env/lib/python3.11/site-packages (from torch>=1.8.0->ultralytics) (2025.7.0)\n",
      "Requirement already satisfied: MarkupSafe>=2.0 in /Users/wooyongjung/miniconda3/envs/homeless_env/lib/python3.11/site-packages (from jinja2->torch>=1.8.0->ultralytics) (3.0.2)\n",
      "Requirement already satisfied: mpmath<1.4,>=1.1.0 in /Users/wooyongjung/miniconda3/envs/homeless_env/lib/python3.11/site-packages (from sympy->torch>=1.8.0->ultralytics) (1.3.0)\n",
      "Downloading ultralytics-8.3.169-py3-none-any.whl (1.0 MB)\n",
      "\u001b[2K   \u001b[90m━━━━━━━━━━━━━━━━━━━━━━━━━━━━━━━━━━━━━━━━\u001b[0m \u001b[32m1.0/1.0 MB\u001b[0m \u001b[31m8.3 MB/s\u001b[0m eta \u001b[36m0:00:00\u001b[0m\n",
      "\u001b[?25hDownloading opencv_python-4.12.0.88-cp37-abi3-macosx_13_0_x86_64.whl (57.3 MB)\n",
      "\u001b[2K   \u001b[90m━━━━━━━━━━━━━━━━━━━━━━━━━━━━━━━━━━━━━━━━\u001b[0m \u001b[32m57.3/57.3 MB\u001b[0m \u001b[31m20.7 MB/s\u001b[0m eta \u001b[36m0:00:00\u001b[0m00:01\u001b[0m00:01\u001b[0m\n",
      "\u001b[?25hDownloading PyYAML-6.0.2-cp311-cp311-macosx_10_9_x86_64.whl (184 kB)\n",
      "Downloading torchvision-0.17.2-cp311-cp311-macosx_10_13_x86_64.whl (1.7 MB)\n",
      "\u001b[2K   \u001b[90m━━━━━━━━━━━━━━━━━━━━━━━━━━━━━━━━━━━━━━━━\u001b[0m \u001b[32m1.7/1.7 MB\u001b[0m \u001b[31m5.1 MB/s\u001b[0m eta \u001b[36m0:00:00\u001b[0mta \u001b[36m0:00:01\u001b[0m\n",
      "\u001b[?25hDownloading ultralytics_thop-2.0.14-py3-none-any.whl (26 kB)\n",
      "Downloading py_cpuinfo-9.0.0-py3-none-any.whl (22 kB)\n",
      "Installing collected packages: py-cpuinfo, pyyaml, opencv-python, ultralytics-thop, torchvision, ultralytics\n",
      "\u001b[2K   \u001b[90m━━━━━━━━━━━━━━━━━━━━━━━━━━━━━━━━━━━━━━━━\u001b[0m \u001b[32m6/6\u001b[0m [ultralytics]\u001b[0m [ultralytics]n]\n",
      "\u001b[1A\u001b[2KSuccessfully installed opencv-python-4.12.0.88 py-cpuinfo-9.0.0 pyyaml-6.0.2 torchvision-0.17.2 ultralytics-8.3.169 ultralytics-thop-2.0.14\n"
     ]
    }
   ],
   "source": [
    "!pip install ultralytics"
   ]
  },
  {
   "cell_type": "code",
   "execution_count": 5,
   "id": "763fc32b",
   "metadata": {},
   "outputs": [
    {
     "name": "stdout",
     "output_type": "stream",
     "text": [
      "Creating new Ultralytics Settings v0.0.6 file ✅ \n",
      "View Ultralytics Settings with 'yolo settings' or at '/Users/wooyongjung/Library/Application Support/Ultralytics/settings.json'\n",
      "Update Settings with 'yolo settings key=value', i.e. 'yolo settings runs_dir=path/to/dir'. For help see https://docs.ultralytics.com/quickstart/#ultralytics-settings.\n"
     ]
    }
   ],
   "source": [
    "import requests\n",
    "from PIL import Image\n",
    "from io import BytesIO\n",
    "import torch\n",
    "from ultralytics import YOLO"
   ]
  },
  {
   "cell_type": "code",
   "execution_count": 6,
   "id": "693d27f0",
   "metadata": {},
   "outputs": [],
   "source": [
    "import pandas as pd\n",
    "import numpy as np"
   ]
  },
  {
   "cell_type": "code",
   "execution_count": 7,
   "id": "44e9f9e2",
   "metadata": {},
   "outputs": [
    {
     "data": {
      "text/html": [
       "<div>\n",
       "<style scoped>\n",
       "    .dataframe tbody tr th:only-of-type {\n",
       "        vertical-align: middle;\n",
       "    }\n",
       "\n",
       "    .dataframe tbody tr th {\n",
       "        vertical-align: top;\n",
       "    }\n",
       "\n",
       "    .dataframe thead th {\n",
       "        text-align: right;\n",
       "    }\n",
       "</style>\n",
       "<table border=\"1\" class=\"dataframe\">\n",
       "  <thead>\n",
       "    <tr style=\"text-align: right;\">\n",
       "      <th></th>\n",
       "      <th>id</th>\n",
       "      <th>captured_at_ms</th>\n",
       "      <th>lon</th>\n",
       "      <th>lat</th>\n",
       "      <th>url</th>\n",
       "    </tr>\n",
       "  </thead>\n",
       "  <tbody>\n",
       "    <tr>\n",
       "      <th>0</th>\n",
       "      <td>2882355252093912</td>\n",
       "      <td>1626350367569</td>\n",
       "      <td>-77.096391</td>\n",
       "      <td>38.995256</td>\n",
       "      <td>https://scontent-iad3-1.xx.fbcdn.net/m1/v/t6/A...</td>\n",
       "    </tr>\n",
       "    <tr>\n",
       "      <th>1</th>\n",
       "      <td>142684247764408</td>\n",
       "      <td>1483041998481</td>\n",
       "      <td>-77.101482</td>\n",
       "      <td>38.993826</td>\n",
       "      <td>https://scontent-iad3-1.xx.fbcdn.net/m1/v/t6/A...</td>\n",
       "    </tr>\n",
       "    <tr>\n",
       "      <th>2</th>\n",
       "      <td>193359302515367</td>\n",
       "      <td>1532813347403</td>\n",
       "      <td>-77.096193</td>\n",
       "      <td>38.993997</td>\n",
       "      <td>https://scontent-iad3-1.xx.fbcdn.net/m1/v/t6/A...</td>\n",
       "    </tr>\n",
       "    <tr>\n",
       "      <th>3</th>\n",
       "      <td>370329794316939</td>\n",
       "      <td>1483042071447</td>\n",
       "      <td>-77.100098</td>\n",
       "      <td>38.993881</td>\n",
       "      <td>https://scontent-iad3-1.xx.fbcdn.net/m1/v/t6/A...</td>\n",
       "    </tr>\n",
       "    <tr>\n",
       "      <th>4</th>\n",
       "      <td>449751629452177</td>\n",
       "      <td>1483042062508</td>\n",
       "      <td>-77.100259</td>\n",
       "      <td>38.993810</td>\n",
       "      <td>https://scontent-iad3-1.xx.fbcdn.net/m1/v/t6/A...</td>\n",
       "    </tr>\n",
       "  </tbody>\n",
       "</table>\n",
       "</div>"
      ],
      "text/plain": [
       "                 id  captured_at_ms        lon        lat  \\\n",
       "0  2882355252093912   1626350367569 -77.096391  38.995256   \n",
       "1   142684247764408   1483041998481 -77.101482  38.993826   \n",
       "2   193359302515367   1532813347403 -77.096193  38.993997   \n",
       "3   370329794316939   1483042071447 -77.100098  38.993881   \n",
       "4   449751629452177   1483042062508 -77.100259  38.993810   \n",
       "\n",
       "                                                 url  \n",
       "0  https://scontent-iad3-1.xx.fbcdn.net/m1/v/t6/A...  \n",
       "1  https://scontent-iad3-1.xx.fbcdn.net/m1/v/t6/A...  \n",
       "2  https://scontent-iad3-1.xx.fbcdn.net/m1/v/t6/A...  \n",
       "3  https://scontent-iad3-1.xx.fbcdn.net/m1/v/t6/A...  \n",
       "4  https://scontent-iad3-1.xx.fbcdn.net/m1/v/t6/A...  "
      ]
     },
     "execution_count": 7,
     "metadata": {},
     "output_type": "execute_result"
    }
   ],
   "source": [
    "# Load the dataset\n",
    "df = pd.read_csv('/Users/wooyongjung/WJ_Projects/HomelessStudy_EPJDS_2025/data/dc_mapillary_image_data.csv')\n",
    "df.head()"
   ]
  },
  {
   "cell_type": "code",
   "execution_count": 8,
   "id": "8e3ad828",
   "metadata": {},
   "outputs": [
    {
     "data": {
      "text/plain": [
       "(10671790, 5)"
      ]
     },
     "execution_count": 8,
     "metadata": {},
     "output_type": "execute_result"
    }
   ],
   "source": [
    "df.shape"
   ]
  },
  {
   "cell_type": "code",
   "execution_count": 11,
   "id": "cd69bc4b",
   "metadata": {},
   "outputs": [
    {
     "data": {
      "text/plain": [
       "(10671790, 5)"
      ]
     },
     "execution_count": 11,
     "metadata": {},
     "output_type": "execute_result"
    }
   ],
   "source": [
    "df.drop_duplicates(subset=['url']).shape"
   ]
  },
  {
   "cell_type": "code",
   "execution_count": 16,
   "id": "394584b7",
   "metadata": {},
   "outputs": [
    {
     "data": {
      "text/plain": [
       "'https://scontent-iad3-1.xx.fbcdn.net/m1/v/t6/An91CpfoCYH-Yd1T_hy1jx1eJgZ04AkfkQ4ztrpA9qW1ZbYIMl5a-RB0kaTDZ7hhpev6aNMSuz3nn4iqchbrVAWSp6jsqyym0kTuRre6ytec5QpaoCNYmXSEF2TibJkWdlbgKkEqd3gAWKBEw1F6Sg?stp=s2048x1536&edm=ALXxkZ8EAAAA&_nc_gid=N3aGLFYq4Znxmb0EnjCzYw&_nc_oc=AdnqMURu1DXUA_tY4246B3BfSApFbZyNaTdDfqS01RLs29KOgV079CNdc1IQKbS-u94&ccb=10-5&oh=00_AfSs5l7y9oO7R_YhVJVwsepOq8itPo1vOQ6HBFPj2Za95A&oe=689DF1FC&_nc_sid=201bca'"
      ]
     },
     "execution_count": 16,
     "metadata": {},
     "output_type": "execute_result"
    }
   ],
   "source": [
    "df['url'][9998]"
   ]
  },
  {
   "cell_type": "code",
   "execution_count": 21,
   "id": "c5515817",
   "metadata": {},
   "outputs": [],
   "source": [
    "import geopandas as gpd\n",
    "import contextily as ctx\n",
    "import matplotlib.pyplot as plt"
   ]
  },
  {
   "cell_type": "code",
   "execution_count": 25,
   "id": "b20ef0af",
   "metadata": {},
   "outputs": [],
   "source": [
    "# Load DC Census Block Group shapefile\n",
    "data_path = '/Users/wooyongjung/WJ_Projects/HomelessStudy_SanFrancisco_2024/data/tl_2021_11_bg/tl_2021_11_bg.shp'\n",
    "census_bg = gpd.read_file(data_path)\n",
    "census_bg = census_bg.to_crs(epsg=4326)\n",
    "census_bg = census_bg[census_bg['GEOID'].str.startswith('11001')]\n",
    "census_bg = census_bg[['GEOID', 'geometry']]\n"
   ]
  },
  {
   "cell_type": "code",
   "execution_count": 34,
   "id": "a411c276",
   "metadata": {},
   "outputs": [
    {
     "data": {
      "text/html": [
       "<div>\n",
       "<style scoped>\n",
       "    .dataframe tbody tr th:only-of-type {\n",
       "        vertical-align: middle;\n",
       "    }\n",
       "\n",
       "    .dataframe tbody tr th {\n",
       "        vertical-align: top;\n",
       "    }\n",
       "\n",
       "    .dataframe thead th {\n",
       "        text-align: right;\n",
       "    }\n",
       "</style>\n",
       "<table border=\"1\" class=\"dataframe\">\n",
       "  <thead>\n",
       "    <tr style=\"text-align: right;\">\n",
       "      <th></th>\n",
       "      <th>Unnamed: 0</th>\n",
       "      <th>row_num</th>\n",
       "      <th>col_num</th>\n",
       "      <th>swne_edges</th>\n",
       "      <th>center_latlon</th>\n",
       "      <th>center_lat</th>\n",
       "      <th>center_lon</th>\n",
       "      <th>GEOID</th>\n",
       "    </tr>\n",
       "  </thead>\n",
       "  <tbody>\n",
       "    <tr>\n",
       "      <th>0</th>\n",
       "      <td>0</td>\n",
       "      <td>0</td>\n",
       "      <td>0</td>\n",
       "      <td>(38.79004401168929, -77.12214000035773, 38.791...</td>\n",
       "      <td>(38.79078547660671, -77.12123558302413)</td>\n",
       "      <td>38.790785</td>\n",
       "      <td>-77.121236</td>\n",
       "      <td>510594203001</td>\n",
       "    </tr>\n",
       "    <tr>\n",
       "      <th>1</th>\n",
       "      <td>1</td>\n",
       "      <td>0</td>\n",
       "      <td>1</td>\n",
       "      <td>(38.7900776409016, -77.12028819502156, 38.7915...</td>\n",
       "      <td>(38.790819092024, -77.11938375742014)</td>\n",
       "      <td>38.790819</td>\n",
       "      <td>-77.119384</td>\n",
       "      <td>510594203001</td>\n",
       "    </tr>\n",
       "    <tr>\n",
       "      <th>2</th>\n",
       "      <td>2</td>\n",
       "      <td>0</td>\n",
       "      <td>2</td>\n",
       "      <td>(38.79011124079366, -77.11843638659438, 38.791...</td>\n",
       "      <td>(38.79085267812021, -77.11753192872636)</td>\n",
       "      <td>38.790853</td>\n",
       "      <td>-77.117532</td>\n",
       "      <td>510594203001</td>\n",
       "    </tr>\n",
       "    <tr>\n",
       "      <th>3</th>\n",
       "      <td>3</td>\n",
       "      <td>0</td>\n",
       "      <td>3</td>\n",
       "      <td>(38.79014481136531, -77.11658457507889, 38.791...</td>\n",
       "      <td>(38.790886234895176, -77.11568009694551)</td>\n",
       "      <td>38.790886</td>\n",
       "      <td>-77.115680</td>\n",
       "      <td>510594203001</td>\n",
       "    </tr>\n",
       "    <tr>\n",
       "      <th>4</th>\n",
       "      <td>4</td>\n",
       "      <td>0</td>\n",
       "      <td>4</td>\n",
       "      <td>(38.7901783526164, -77.11473276047779, 38.7916...</td>\n",
       "      <td>(38.790919762348764, -77.11382826208028)</td>\n",
       "      <td>38.790920</td>\n",
       "      <td>-77.113828</td>\n",
       "      <td>510594203001</td>\n",
       "    </tr>\n",
       "  </tbody>\n",
       "</table>\n",
       "</div>"
      ],
      "text/plain": [
       "   Unnamed: 0  row_num  col_num  \\\n",
       "0           0        0        0   \n",
       "1           1        0        1   \n",
       "2           2        0        2   \n",
       "3           3        0        3   \n",
       "4           4        0        4   \n",
       "\n",
       "                                          swne_edges  \\\n",
       "0  (38.79004401168929, -77.12214000035773, 38.791...   \n",
       "1  (38.7900776409016, -77.12028819502156, 38.7915...   \n",
       "2  (38.79011124079366, -77.11843638659438, 38.791...   \n",
       "3  (38.79014481136531, -77.11658457507889, 38.791...   \n",
       "4  (38.7901783526164, -77.11473276047779, 38.7916...   \n",
       "\n",
       "                              center_latlon  center_lat  center_lon  \\\n",
       "0   (38.79078547660671, -77.12123558302413)   38.790785  -77.121236   \n",
       "1     (38.790819092024, -77.11938375742014)   38.790819  -77.119384   \n",
       "2   (38.79085267812021, -77.11753192872636)   38.790853  -77.117532   \n",
       "3  (38.790886234895176, -77.11568009694551)   38.790886  -77.115680   \n",
       "4  (38.790919762348764, -77.11382826208028)   38.790920  -77.113828   \n",
       "\n",
       "          GEOID  \n",
       "0  510594203001  \n",
       "1  510594203001  \n",
       "2  510594203001  \n",
       "3  510594203001  \n",
       "4  510594203001  "
      ]
     },
     "execution_count": 34,
     "metadata": {},
     "output_type": "execute_result"
    }
   ],
   "source": [
    "# Load DC Bounding Box data\n",
    "df_bbox = pd.read_csv('/Users/wooyongjung/WJ_Projects/HomelessStudy_SanFrancisco_2024/data/DC_bbox/df_bbox_99.csv')\n",
    "df_bbox.head()"
   ]
  },
  {
   "cell_type": "code",
   "execution_count": 35,
   "id": "bd492240",
   "metadata": {},
   "outputs": [],
   "source": [
    "# Select only the rows that match the GEOID for DC\n",
    "df_bbox['GEOID'] = df_bbox['GEOID'].astype(str)\n",
    "df_bbox = df_bbox[df_bbox['GEOID'].str.startswith('11001')]\n",
    "\n",
    "# Reset index\n",
    "df_bbox.reset_index(drop=True, inplace=True)\n",
    "\n",
    "# Drop the first column Unnamed: 0\n",
    "df_bbox.drop(columns=['Unnamed: 0'], inplace=True)"
   ]
  },
  {
   "cell_type": "code",
   "execution_count": 36,
   "id": "fa126538",
   "metadata": {},
   "outputs": [
    {
     "data": {
      "text/plain": [
       "(6833, 7)"
      ]
     },
     "execution_count": 36,
     "metadata": {},
     "output_type": "execute_result"
    }
   ],
   "source": [
    "df_bbox.shape"
   ]
  },
  {
   "cell_type": "code",
   "execution_count": 37,
   "id": "b39e9438",
   "metadata": {},
   "outputs": [],
   "source": [
    "# Create coordinates\n",
    "df_bbox['swne_edges'] = df_bbox['swne_edges'].apply(lambda x: x[1:-1].split(','))\n",
    "coords = []\n",
    "for i in range(len(df_bbox)):\n",
    "    coord = [(df_bbox['swne_edges'][i][1], df_bbox['swne_edges'][i][0]),\n",
    "             (df_bbox['swne_edges'][i][3], df_bbox['swne_edges'][i][0]),\n",
    "             (df_bbox['swne_edges'][i][3], df_bbox['swne_edges'][i][2]),\n",
    "             (df_bbox['swne_edges'][i][1], df_bbox['swne_edges'][i][2])]\n",
    "    coords.append(coord)\n",
    "\n",
    "df_bbox['coords'] = coords"
   ]
  },
  {
   "cell_type": "code",
   "execution_count": 38,
   "id": "982529c0",
   "metadata": {},
   "outputs": [],
   "source": [
    "from shapely.geometry import Polygon, LineString, Point, MultiPolygon\n",
    "# Apply Polygon to coords\n",
    "df_bbox['geometry'] = df_bbox['coords'].apply(Polygon)"
   ]
  },
  {
   "cell_type": "code",
   "execution_count": 39,
   "id": "eefdec3d",
   "metadata": {},
   "outputs": [
    {
     "data": {
      "text/html": [
       "<div>\n",
       "<style scoped>\n",
       "    .dataframe tbody tr th:only-of-type {\n",
       "        vertical-align: middle;\n",
       "    }\n",
       "\n",
       "    .dataframe tbody tr th {\n",
       "        vertical-align: top;\n",
       "    }\n",
       "\n",
       "    .dataframe thead th {\n",
       "        text-align: right;\n",
       "    }\n",
       "</style>\n",
       "<table border=\"1\" class=\"dataframe\">\n",
       "  <thead>\n",
       "    <tr style=\"text-align: right;\">\n",
       "      <th></th>\n",
       "      <th>row_num</th>\n",
       "      <th>col_num</th>\n",
       "      <th>swne_edges</th>\n",
       "      <th>center_latlon</th>\n",
       "      <th>center_lat</th>\n",
       "      <th>center_lon</th>\n",
       "      <th>GEOID</th>\n",
       "      <th>coords</th>\n",
       "      <th>geometry</th>\n",
       "    </tr>\n",
       "  </thead>\n",
       "  <tbody>\n",
       "    <tr>\n",
       "      <th>0</th>\n",
       "      <td>1</td>\n",
       "      <td>45</td>\n",
       "      <td>[38.79297766582736,  -77.03884704247784,  38.7...</td>\n",
       "      <td>(38.79371850978283, -77.03794169706438)</td>\n",
       "      <td>38.793719</td>\n",
       "      <td>-77.037942</td>\n",
       "      <td>110010109002</td>\n",
       "      <td>[( -77.03884704247784, 38.79297766582736), ( -...</td>\n",
       "      <td>POLYGON ((-77.03884704247784 38.79297766582736...</td>\n",
       "    </tr>\n",
       "    <tr>\n",
       "      <th>1</th>\n",
       "      <td>2</td>\n",
       "      <td>45</td>\n",
       "      <td>[38.79442703415638,  -77.03888834960206,  38.7...</td>\n",
       "      <td>(38.79516787874482, -77.03798298694552)</td>\n",
       "      <td>38.795168</td>\n",
       "      <td>-77.037983</td>\n",
       "      <td>110010109002</td>\n",
       "      <td>[( -77.03888834960206, 38.79442703415638), ( -...</td>\n",
       "      <td>POLYGON ((-77.03888834960206 38.79442703415638...</td>\n",
       "    </tr>\n",
       "    <tr>\n",
       "      <th>2</th>\n",
       "      <td>2</td>\n",
       "      <td>46</td>\n",
       "      <td>[38.79445934713823,  -77.037036332922,  38.795...</td>\n",
       "      <td>(38.795200177892994, -77.03613095004992)</td>\n",
       "      <td>38.795200</td>\n",
       "      <td>-77.036131</td>\n",
       "      <td>110010109002</td>\n",
       "      <td>[( -77.037036332922, 38.79445934713823), ( -77...</td>\n",
       "      <td>POLYGON ((-77.037036332922 38.79445934713823, ...</td>\n",
       "    </tr>\n",
       "    <tr>\n",
       "      <th>3</th>\n",
       "      <td>3</td>\n",
       "      <td>45</td>\n",
       "      <td>[38.79587640208779,  -77.03892965969936,  38.7...</td>\n",
       "      <td>(38.79661724730925, -77.0380242797985)</td>\n",
       "      <td>38.796617</td>\n",
       "      <td>-77.038024</td>\n",
       "      <td>110010109002</td>\n",
       "      <td>[( -77.03892965969936, 38.79587640208779), ( -...</td>\n",
       "      <td>POLYGON ((-77.03892965969936 38.79587640208779...</td>\n",
       "    </tr>\n",
       "    <tr>\n",
       "      <th>4</th>\n",
       "      <td>3</td>\n",
       "      <td>46</td>\n",
       "      <td>[38.79590871673287,  -77.03707760555871,  38.7...</td>\n",
       "      <td>(38.79664954811994, -77.03617220544085)</td>\n",
       "      <td>38.796650</td>\n",
       "      <td>-77.036172</td>\n",
       "      <td>110010109002</td>\n",
       "      <td>[( -77.03707760555871, 38.79590871673287), ( -...</td>\n",
       "      <td>POLYGON ((-77.03707760555871 38.79590871673287...</td>\n",
       "    </tr>\n",
       "  </tbody>\n",
       "</table>\n",
       "</div>"
      ],
      "text/plain": [
       "   row_num  col_num                                         swne_edges  \\\n",
       "0        1       45  [38.79297766582736,  -77.03884704247784,  38.7...   \n",
       "1        2       45  [38.79442703415638,  -77.03888834960206,  38.7...   \n",
       "2        2       46  [38.79445934713823,  -77.037036332922,  38.795...   \n",
       "3        3       45  [38.79587640208779,  -77.03892965969936,  38.7...   \n",
       "4        3       46  [38.79590871673287,  -77.03707760555871,  38.7...   \n",
       "\n",
       "                              center_latlon  center_lat  center_lon  \\\n",
       "0   (38.79371850978283, -77.03794169706438)   38.793719  -77.037942   \n",
       "1   (38.79516787874482, -77.03798298694552)   38.795168  -77.037983   \n",
       "2  (38.795200177892994, -77.03613095004992)   38.795200  -77.036131   \n",
       "3    (38.79661724730925, -77.0380242797985)   38.796617  -77.038024   \n",
       "4   (38.79664954811994, -77.03617220544085)   38.796650  -77.036172   \n",
       "\n",
       "          GEOID                                             coords  \\\n",
       "0  110010109002  [( -77.03884704247784, 38.79297766582736), ( -...   \n",
       "1  110010109002  [( -77.03888834960206, 38.79442703415638), ( -...   \n",
       "2  110010109002  [( -77.037036332922, 38.79445934713823), ( -77...   \n",
       "3  110010109002  [( -77.03892965969936, 38.79587640208779), ( -...   \n",
       "4  110010109002  [( -77.03707760555871, 38.79590871673287), ( -...   \n",
       "\n",
       "                                            geometry  \n",
       "0  POLYGON ((-77.03884704247784 38.79297766582736...  \n",
       "1  POLYGON ((-77.03888834960206 38.79442703415638...  \n",
       "2  POLYGON ((-77.037036332922 38.79445934713823, ...  \n",
       "3  POLYGON ((-77.03892965969936 38.79587640208779...  \n",
       "4  POLYGON ((-77.03707760555871 38.79590871673287...  "
      ]
     },
     "execution_count": 39,
     "metadata": {},
     "output_type": "execute_result"
    }
   ],
   "source": [
    "df_bbox.head()"
   ]
  },
  {
   "cell_type": "code",
   "execution_count": 42,
   "id": "f15a0288",
   "metadata": {},
   "outputs": [],
   "source": [
    "# Convert geometry to GeoDataFrame\n",
    "df_bbox = gpd.GeoDataFrame(df_bbox, geometry=df_bbox['geometry'], crs=4326)"
   ]
  },
  {
   "cell_type": "code",
   "execution_count": 44,
   "id": "965cab59",
   "metadata": {},
   "outputs": [
    {
     "name": "stderr",
     "output_type": "stream",
     "text": [
      "/var/folders/y6/z9h695vx2w3gbjh7z32h4j9m0000gn/T/ipykernel_75880/3074419108.py:2: UserWarning: Column names longer than 10 characters will be truncated when saved to ESRI Shapefile.\n",
      "  df_bbox.to_file('data/df_bbox.shp', driver='ESRI Shapefile')\n",
      "/Users/wooyongjung/miniconda3/envs/homeless_env/lib/python3.11/site-packages/pyogrio/raw.py:723: RuntimeWarning: Normalized/laundered field name: 'center_latlon' to 'center_lat'\n",
      "  ogr_write(\n",
      "/Users/wooyongjung/miniconda3/envs/homeless_env/lib/python3.11/site-packages/pyogrio/raw.py:723: RuntimeWarning: Normalized/laundered field name: 'center_lat' to 'center_l_1'\n",
      "  ogr_write(\n"
     ]
    }
   ],
   "source": [
    "# Save the GeoDataFrame to a shapefile\n",
    "df_bbox.to_file('data/df_bbox.shp', driver='ESRI Shapefile')"
   ]
  },
  {
   "cell_type": "code",
   "execution_count": 45,
   "id": "a824bb37",
   "metadata": {},
   "outputs": [
    {
     "data": {
      "image/png": "[encoded data removed]",
      "text/plain": [
       "<Figure size 700x700 with 1 Axes>"
      ]
     },
     "metadata": {},
     "output_type": "display_data"
    }
   ],
   "source": [
    "ax = df_bbox.plot(figsize=(7, 7), alpha=0.5, edgecolor='white')\n",
    "plt.show()"
   ]
  },
  {
   "cell_type": "code",
   "execution_count": 26,
   "metadata": {},
   "outputs": [
    {
     "data": {
      "text/html": [
       "<div>\n",
       "<style scoped>\n",
       "    .dataframe tbody tr th:only-of-type {\n",
       "        vertical-align: middle;\n",
       "    }\n",
       "\n",
       "    .dataframe tbody tr th {\n",
       "        vertical-align: top;\n",
       "    }\n",
       "\n",
       "    .dataframe thead th {\n",
       "        text-align: right;\n",
       "    }\n",
       "</style>\n",
       "<table border=\"1\" class=\"dataframe\">\n",
       "  <thead>\n",
       "    <tr style=\"text-align: right;\">\n",
       "      <th></th>\n",
       "      <th>GEOID</th>\n",
       "      <th>geometry</th>\n",
       "    </tr>\n",
       "  </thead>\n",
       "  <tbody>\n",
       "    <tr>\n",
       "      <th>0</th>\n",
       "      <td>110010007022</td>\n",
       "      <td>POLYGON ((-77.07705 38.92567, -77.07705 38.925...</td>\n",
       "    </tr>\n",
       "    <tr>\n",
       "      <th>1</th>\n",
       "      <td>110010006003</td>\n",
       "      <td>POLYGON ((-77.07265 38.93187, -77.07255 38.932...</td>\n",
       "    </tr>\n",
       "    <tr>\n",
       "      <th>2</th>\n",
       "      <td>110010006004</td>\n",
       "      <td>POLYGON ((-77.07651 38.94222, -77.07601 38.942...</td>\n",
       "    </tr>\n",
       "    <tr>\n",
       "      <th>3</th>\n",
       "      <td>110010011001</td>\n",
       "      <td>POLYGON ((-77.08202 38.96148, -77.08202 38.962...</td>\n",
       "    </tr>\n",
       "    <tr>\n",
       "      <th>4</th>\n",
       "      <td>110010004002</td>\n",
       "      <td>POLYGON ((-77.07291 38.92254, -77.07269 38.922...</td>\n",
       "    </tr>\n",
       "  </tbody>\n",
       "</table>\n",
       "</div>"
      ],
      "text/plain": [
       "          GEOID                                           geometry\n",
       "0  110010007022  POLYGON ((-77.07705 38.92567, -77.07705 38.925...\n",
       "1  110010006003  POLYGON ((-77.07265 38.93187, -77.07255 38.932...\n",
       "2  110010006004  POLYGON ((-77.07651 38.94222, -77.07601 38.942...\n",
       "3  110010011001  POLYGON ((-77.08202 38.96148, -77.08202 38.962...\n",
       "4  110010004002  POLYGON ((-77.07291 38.92254, -77.07269 38.922..."
      ]
     },
     "execution_count": 26,
     "metadata": {},
     "output_type": "execute_result"
    }
   ],
   "source": [
    "census_bg.reset_index(drop=True, inplace=True)\n",
    "census_bg.head()"
   ]
  },
  {
   "cell_type": "code",
   "execution_count": 27,
   "id": "592b7e26",
   "metadata": {},
   "outputs": [
    {
     "data": {
      "image/png": "[encoded data removed]",
      "text/plain": [
       "<Figure size 700x700 with 1 Axes>"
      ]
     },
     "metadata": {},
     "output_type": "display_data"
    }
   ],
   "source": [
    "census_bg.plot(figsize=(7, 7))\n",
    "plt.show()"
   ]
  },
  {
   "cell_type": "code",
   "execution_count": 46,
   "id": "d516482f",
   "metadata": {},
   "outputs": [
    {
     "data": {
      "text/html": [
       "<div>\n",
       "<style scoped>\n",
       "    .dataframe tbody tr th:only-of-type {\n",
       "        vertical-align: middle;\n",
       "    }\n",
       "\n",
       "    .dataframe tbody tr th {\n",
       "        vertical-align: top;\n",
       "    }\n",
       "\n",
       "    .dataframe thead th {\n",
       "        text-align: right;\n",
       "    }\n",
       "</style>\n",
       "<table border=\"1\" class=\"dataframe\">\n",
       "  <thead>\n",
       "    <tr style=\"text-align: right;\">\n",
       "      <th></th>\n",
       "      <th>id</th>\n",
       "      <th>captured_at_ms</th>\n",
       "      <th>lon</th>\n",
       "      <th>lat</th>\n",
       "      <th>url</th>\n",
       "    </tr>\n",
       "  </thead>\n",
       "  <tbody>\n",
       "    <tr>\n",
       "      <th>0</th>\n",
       "      <td>2882355252093912</td>\n",
       "      <td>1626350367569</td>\n",
       "      <td>-77.096391</td>\n",
       "      <td>38.995256</td>\n",
       "      <td>https://scontent-iad3-1.xx.fbcdn.net/m1/v/t6/A...</td>\n",
       "    </tr>\n",
       "    <tr>\n",
       "      <th>1</th>\n",
       "      <td>142684247764408</td>\n",
       "      <td>1483041998481</td>\n",
       "      <td>-77.101482</td>\n",
       "      <td>38.993826</td>\n",
       "      <td>https://scontent-iad3-1.xx.fbcdn.net/m1/v/t6/A...</td>\n",
       "    </tr>\n",
       "    <tr>\n",
       "      <th>2</th>\n",
       "      <td>193359302515367</td>\n",
       "      <td>1532813347403</td>\n",
       "      <td>-77.096193</td>\n",
       "      <td>38.993997</td>\n",
       "      <td>https://scontent-iad3-1.xx.fbcdn.net/m1/v/t6/A...</td>\n",
       "    </tr>\n",
       "    <tr>\n",
       "      <th>3</th>\n",
       "      <td>370329794316939</td>\n",
       "      <td>1483042071447</td>\n",
       "      <td>-77.100098</td>\n",
       "      <td>38.993881</td>\n",
       "      <td>https://scontent-iad3-1.xx.fbcdn.net/m1/v/t6/A...</td>\n",
       "    </tr>\n",
       "    <tr>\n",
       "      <th>4</th>\n",
       "      <td>449751629452177</td>\n",
       "      <td>1483042062508</td>\n",
       "      <td>-77.100259</td>\n",
       "      <td>38.993810</td>\n",
       "      <td>https://scontent-iad3-1.xx.fbcdn.net/m1/v/t6/A...</td>\n",
       "    </tr>\n",
       "  </tbody>\n",
       "</table>\n",
       "</div>"
      ],
      "text/plain": [
       "                 id  captured_at_ms        lon        lat  \\\n",
       "0  2882355252093912   1626350367569 -77.096391  38.995256   \n",
       "1   142684247764408   1483041998481 -77.101482  38.993826   \n",
       "2   193359302515367   1532813347403 -77.096193  38.993997   \n",
       "3   370329794316939   1483042071447 -77.100098  38.993881   \n",
       "4   449751629452177   1483042062508 -77.100259  38.993810   \n",
       "\n",
       "                                                 url  \n",
       "0  https://scontent-iad3-1.xx.fbcdn.net/m1/v/t6/A...  \n",
       "1  https://scontent-iad3-1.xx.fbcdn.net/m1/v/t6/A...  \n",
       "2  https://scontent-iad3-1.xx.fbcdn.net/m1/v/t6/A...  \n",
       "3  https://scontent-iad3-1.xx.fbcdn.net/m1/v/t6/A...  \n",
       "4  https://scontent-iad3-1.xx.fbcdn.net/m1/v/t6/A...  "
      ]
     },
     "execution_count": 46,
     "metadata": {},
     "output_type": "execute_result"
    }
   ],
   "source": [
    "df.head()"
   ]
  },
  {
   "cell_type": "code",
   "execution_count": 47,
   "id": "55e9a4bb",
   "metadata": {},
   "outputs": [
    {
     "data": {
      "text/plain": [
       "(10671790, 5)"
      ]
     },
     "execution_count": 47,
     "metadata": {},
     "output_type": "execute_result"
    }
   ],
   "source": [
    "df.shape"
   ]
  },
  {
   "cell_type": "code",
   "execution_count": 48,
   "id": "c59fb529",
   "metadata": {},
   "outputs": [
    {
     "data": {
      "text/html": [
       "<div>\n",
       "<style scoped>\n",
       "    .dataframe tbody tr th:only-of-type {\n",
       "        vertical-align: middle;\n",
       "    }\n",
       "\n",
       "    .dataframe tbody tr th {\n",
       "        vertical-align: top;\n",
       "    }\n",
       "\n",
       "    .dataframe thead th {\n",
       "        text-align: right;\n",
       "    }\n",
       "</style>\n",
       "<table border=\"1\" class=\"dataframe\">\n",
       "  <thead>\n",
       "    <tr style=\"text-align: right;\">\n",
       "      <th></th>\n",
       "      <th>row_num</th>\n",
       "      <th>col_num</th>\n",
       "      <th>swne_edges</th>\n",
       "      <th>center_latlon</th>\n",
       "      <th>center_lat</th>\n",
       "      <th>center_lon</th>\n",
       "      <th>GEOID</th>\n",
       "      <th>coords</th>\n",
       "      <th>geometry</th>\n",
       "    </tr>\n",
       "  </thead>\n",
       "  <tbody>\n",
       "    <tr>\n",
       "      <th>0</th>\n",
       "      <td>1</td>\n",
       "      <td>45</td>\n",
       "      <td>[38.79297766582736,  -77.03884704247784,  38.7...</td>\n",
       "      <td>(38.79371850978283, -77.03794169706438)</td>\n",
       "      <td>38.793719</td>\n",
       "      <td>-77.037942</td>\n",
       "      <td>110010109002</td>\n",
       "      <td>[( -77.03884704247784, 38.79297766582736), ( -...</td>\n",
       "      <td>POLYGON ((-77.03885 38.79298, -77.03704 38.792...</td>\n",
       "    </tr>\n",
       "    <tr>\n",
       "      <th>1</th>\n",
       "      <td>2</td>\n",
       "      <td>45</td>\n",
       "      <td>[38.79442703415638,  -77.03888834960206,  38.7...</td>\n",
       "      <td>(38.79516787874482, -77.03798298694552)</td>\n",
       "      <td>38.795168</td>\n",
       "      <td>-77.037983</td>\n",
       "      <td>110010109002</td>\n",
       "      <td>[( -77.03888834960206, 38.79442703415638), ( -...</td>\n",
       "      <td>POLYGON ((-77.03889 38.79443, -77.03708 38.794...</td>\n",
       "    </tr>\n",
       "  </tbody>\n",
       "</table>\n",
       "</div>"
      ],
      "text/plain": [
       "   row_num  col_num                                         swne_edges  \\\n",
       "0        1       45  [38.79297766582736,  -77.03884704247784,  38.7...   \n",
       "1        2       45  [38.79442703415638,  -77.03888834960206,  38.7...   \n",
       "\n",
       "                             center_latlon  center_lat  center_lon  \\\n",
       "0  (38.79371850978283, -77.03794169706438)   38.793719  -77.037942   \n",
       "1  (38.79516787874482, -77.03798298694552)   38.795168  -77.037983   \n",
       "\n",
       "          GEOID                                             coords  \\\n",
       "0  110010109002  [( -77.03884704247784, 38.79297766582736), ( -...   \n",
       "1  110010109002  [( -77.03888834960206, 38.79442703415638), ( -...   \n",
       "\n",
       "                                            geometry  \n",
       "0  POLYGON ((-77.03885 38.79298, -77.03704 38.792...  \n",
       "1  POLYGON ((-77.03889 38.79443, -77.03708 38.794...  "
      ]
     },
     "execution_count": 48,
     "metadata": {},
     "output_type": "execute_result"
    }
   ],
   "source": [
    "df_bbox.head(2)"
   ]
  },
  {
   "cell_type": "code",
   "execution_count": 49,
   "id": "8d898447",
   "metadata": {},
   "outputs": [
    {
     "name": "stdout",
     "output_type": "stream",
     "text": [
      "(6833, 9)\n",
      "(10671790, 5)\n"
     ]
    }
   ],
   "source": [
    "print(df_bbox.shape)\n",
    "print(df.shape)"
   ]
  },
  {
   "cell_type": "code",
   "execution_count": null,
   "id": "ee6dd9ce",
   "metadata": {},
   "outputs": [
    {
     "data": {
      "text/plain": [
       "(9689045, 9)"
      ]
     },
     "execution_count": 60,
     "metadata": {},
     "output_type": "execute_result"
    }
   ],
   "source": [
    "# Geojoin the main data (df) and df_bbox based on the geometry and filter out the df rows not in the bbox\n",
    "df = gpd.GeoDataFrame(df, geometry=gpd.points_from_xy(df['lon'], df['lat']), crs=4326)\n",
    "df_url = df.copy()\n",
    "df_bbox = df_bbox.to_crs(epsg=4326)\n",
    "df_bbox = df_bbox[['GEOID', 'geometry', 'center_latlon']]\n",
    "df_url = gpd.sjoin(df_bbox, df_url, how='left', predicate='intersects')\n",
    "df_url.shape"
   ]
  },
  {
   "cell_type": "code",
   "execution_count": 61,
   "id": "83d4dcbb",
   "metadata": {},
   "outputs": [
    {
     "data": {
      "text/plain": [
       "6833"
      ]
     },
     "execution_count": 61,
     "metadata": {},
     "output_type": "execute_result"
    }
   ],
   "source": [
    "df_url['geometry'].nunique()"
   ]
  },
  {
   "cell_type": "code",
   "execution_count": 64,
   "id": "f4387f76",
   "metadata": {},
   "outputs": [
    {
     "name": "stdout",
     "output_type": "stream",
     "text": [
      "<class 'pandas.core.frame.DataFrame'>\n",
      "RangeIndex: 6833 entries, 0 to 6832\n",
      "Data columns (total 2 columns):\n",
      " #   Column    Non-Null Count  Dtype   \n",
      "---  ------    --------------  -----   \n",
      " 0   geometry  6833 non-null   geometry\n",
      " 1   count     6833 non-null   int64   \n",
      "dtypes: geometry(1), int64(1)\n",
      "memory usage: 106.9 KB\n"
     ]
    }
   ],
   "source": [
    "df_url.groupby(['geometry']).size().reset_index(name='count').info()"
   ]
  },
  {
   "cell_type": "code",
   "execution_count": null,
   "id": "3584fd62",
   "metadata": {},
   "outputs": [],
   "source": [
    "#df_url.plot(figsize=(7, 7), alpha=0.5, edgecolor='white')"
   ]
  },
  {
   "cell_type": "code",
   "execution_count": 62,
   "id": "1e338bd9",
   "metadata": {},
   "outputs": [
    {
     "data": {
      "text/html": [
       "<div>\n",
       "<style scoped>\n",
       "    .dataframe tbody tr th:only-of-type {\n",
       "        vertical-align: middle;\n",
       "    }\n",
       "\n",
       "    .dataframe tbody tr th {\n",
       "        vertical-align: top;\n",
       "    }\n",
       "\n",
       "    .dataframe thead th {\n",
       "        text-align: right;\n",
       "    }\n",
       "</style>\n",
       "<table border=\"1\" class=\"dataframe\">\n",
       "  <thead>\n",
       "    <tr style=\"text-align: right;\">\n",
       "      <th></th>\n",
       "      <th>GEOID</th>\n",
       "      <th>geometry</th>\n",
       "      <th>center_latlon</th>\n",
       "      <th>index_right</th>\n",
       "      <th>id</th>\n",
       "      <th>captured_at_ms</th>\n",
       "      <th>lon</th>\n",
       "      <th>lat</th>\n",
       "      <th>url</th>\n",
       "    </tr>\n",
       "  </thead>\n",
       "  <tbody>\n",
       "    <tr>\n",
       "      <th>0</th>\n",
       "      <td>110010109002</td>\n",
       "      <td>POLYGON ((-77.03885 38.79298, -77.03704 38.792...</td>\n",
       "      <td>(38.79371850978283, -77.03794169706438)</td>\n",
       "      <td>431277.0</td>\n",
       "      <td>1.834270e+14</td>\n",
       "      <td>1.531499e+12</td>\n",
       "      <td>-77.038751</td>\n",
       "      <td>38.792978</td>\n",
       "      <td>https://scontent-iad3-1.xx.fbcdn.net/m1/v/t6/A...</td>\n",
       "    </tr>\n",
       "    <tr>\n",
       "      <th>0</th>\n",
       "      <td>110010109002</td>\n",
       "      <td>POLYGON ((-77.03885 38.79298, -77.03704 38.792...</td>\n",
       "      <td>(38.79371850978283, -77.03794169706438)</td>\n",
       "      <td>419522.0</td>\n",
       "      <td>1.464670e+14</td>\n",
       "      <td>1.531499e+12</td>\n",
       "      <td>-77.038836</td>\n",
       "      <td>38.792978</td>\n",
       "      <td>https://scontent-iad3-1.xx.fbcdn.net/m1/v/t6/A...</td>\n",
       "    </tr>\n",
       "    <tr>\n",
       "      <th>0</th>\n",
       "      <td>110010109002</td>\n",
       "      <td>POLYGON ((-77.03885 38.79298, -77.03704 38.792...</td>\n",
       "      <td>(38.79371850978283, -77.03794169706438)</td>\n",
       "      <td>429638.0</td>\n",
       "      <td>3.636985e+15</td>\n",
       "      <td>1.544907e+12</td>\n",
       "      <td>-77.038343</td>\n",
       "      <td>38.792978</td>\n",
       "      <td>https://scontent-iad3-1.xx.fbcdn.net/m1/v/t6/A...</td>\n",
       "    </tr>\n",
       "    <tr>\n",
       "      <th>0</th>\n",
       "      <td>110010109002</td>\n",
       "      <td>POLYGON ((-77.03885 38.79298, -77.03704 38.792...</td>\n",
       "      <td>(38.79371850978283, -77.03794169706438)</td>\n",
       "      <td>422649.0</td>\n",
       "      <td>1.857431e+14</td>\n",
       "      <td>1.544907e+12</td>\n",
       "      <td>-77.038273</td>\n",
       "      <td>38.792978</td>\n",
       "      <td>https://scontent-iad3-1.xx.fbcdn.net/m1/v/t6/A...</td>\n",
       "    </tr>\n",
       "    <tr>\n",
       "      <th>0</th>\n",
       "      <td>110010109002</td>\n",
       "      <td>POLYGON ((-77.03885 38.79298, -77.03704 38.792...</td>\n",
       "      <td>(38.79371850978283, -77.03794169706438)</td>\n",
       "      <td>416683.0</td>\n",
       "      <td>2.782087e+15</td>\n",
       "      <td>1.544907e+12</td>\n",
       "      <td>-77.038386</td>\n",
       "      <td>38.792978</td>\n",
       "      <td>https://scontent-iad3-1.xx.fbcdn.net/m1/v/t6/A...</td>\n",
       "    </tr>\n",
       "  </tbody>\n",
       "</table>\n",
       "</div>"
      ],
      "text/plain": [
       "          GEOID                                           geometry  \\\n",
       "0  110010109002  POLYGON ((-77.03885 38.79298, -77.03704 38.792...   \n",
       "0  110010109002  POLYGON ((-77.03885 38.79298, -77.03704 38.792...   \n",
       "0  110010109002  POLYGON ((-77.03885 38.79298, -77.03704 38.792...   \n",
       "0  110010109002  POLYGON ((-77.03885 38.79298, -77.03704 38.792...   \n",
       "0  110010109002  POLYGON ((-77.03885 38.79298, -77.03704 38.792...   \n",
       "\n",
       "                             center_latlon  index_right            id  \\\n",
       "0  (38.79371850978283, -77.03794169706438)     431277.0  1.834270e+14   \n",
       "0  (38.79371850978283, -77.03794169706438)     419522.0  1.464670e+14   \n",
       "0  (38.79371850978283, -77.03794169706438)     429638.0  3.636985e+15   \n",
       "0  (38.79371850978283, -77.03794169706438)     422649.0  1.857431e+14   \n",
       "0  (38.79371850978283, -77.03794169706438)     416683.0  2.782087e+15   \n",
       "\n",
       "   captured_at_ms        lon        lat  \\\n",
       "0    1.531499e+12 -77.038751  38.792978   \n",
       "0    1.531499e+12 -77.038836  38.792978   \n",
       "0    1.544907e+12 -77.038343  38.792978   \n",
       "0    1.544907e+12 -77.038273  38.792978   \n",
       "0    1.544907e+12 -77.038386  38.792978   \n",
       "\n",
       "                                                 url  \n",
       "0  https://scontent-iad3-1.xx.fbcdn.net/m1/v/t6/A...  \n",
       "0  https://scontent-iad3-1.xx.fbcdn.net/m1/v/t6/A...  \n",
       "0  https://scontent-iad3-1.xx.fbcdn.net/m1/v/t6/A...  \n",
       "0  https://scontent-iad3-1.xx.fbcdn.net/m1/v/t6/A...  \n",
       "0  https://scontent-iad3-1.xx.fbcdn.net/m1/v/t6/A...  "
      ]
     },
     "execution_count": 62,
     "metadata": {},
     "output_type": "execute_result"
    }
   ],
   "source": [
    "df_url.head()"
   ]
  },
  {
   "cell_type": "code",
   "execution_count": 56,
   "id": "52766859",
   "metadata": {},
   "outputs": [
    {
     "name": "stdout",
     "output_type": "stream",
     "text": [
      "<class 'geopandas.geodataframe.GeoDataFrame'>\n",
      "Index: 9689045 entries, 0 to 6832\n",
      "Data columns (total 9 columns):\n",
      " #   Column          Dtype   \n",
      "---  ------          -----   \n",
      " 0   GEOID           object  \n",
      " 1   geometry        geometry\n",
      " 2   center_latlon   object  \n",
      " 3   index_right     float64 \n",
      " 4   id              float64 \n",
      " 5   captured_at_ms  float64 \n",
      " 6   lon             float64 \n",
      " 7   lat             float64 \n",
      " 8   url             object  \n",
      "dtypes: float64(5), geometry(1), object(3)\n",
      "memory usage: 739.2+ MB\n"
     ]
    }
   ],
   "source": [
    "df_url.info()"
   ]
  },
  {
   "cell_type": "code",
   "execution_count": 52,
   "id": "0ffe6a6b",
   "metadata": {},
   "outputs": [
    {
     "data": {
      "text/plain": [
       "<Axes: >"
      ]
     },
     "execution_count": 52,
     "metadata": {},
     "output_type": "execute_result"
    },
    {
     "data": {
      "image/png": "[encoded data removed]",
      "text/plain": [
       "<Figure size 640x480 with 1 Axes>"
      ]
     },
     "metadata": {},
     "output_type": "display_data"
    }
   ],
   "source": [
    "df_url.groupby('geometry').size().reset_index(name='count').plot()"
   ]
  }
 ],
 "metadata": {
  "kernelspec": {
   "display_name": "homeless_env",
   "language": "python",
   "name": "python3"
  },
  "language_info": {
   "codemirror_mode": {
    "name": "ipython",
    "version": 3
   },
   "file_extension": ".py",
   "mimetype": "text/x-python",
   "name": "python",
   "nbconvert_exporter": "python",
   "pygments_lexer": "ipython3",
   "version": "3.11.11"
  }
 },
 "nbformat": 4,
 "nbformat_minor": 5
}
